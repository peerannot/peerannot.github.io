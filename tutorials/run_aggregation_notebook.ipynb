{
 "cells": [
  {
   "cell_type": "markdown",
   "metadata": {},
   "source": [
    "Data generation\n",
    "---------------------------\n",
    "\n",
    "First, we generate a dataset with the `peerannot simulate` command.\n",
    "This dataset has 30 workers, 200 tasks for 5 classes. Each task receives 10 votes."
   ]
  },
  {
   "cell_type": "code",
   "execution_count": 1,
   "metadata": {
    "execution": {
     "iopub.execute_input": "2024-06-25T07:29:52.330076Z",
     "iopub.status.busy": "2024-06-25T07:29:52.329643Z",
     "iopub.status.idle": "2024-06-25T07:29:57.341405Z",
     "shell.execute_reply": "2024-06-25T07:29:57.340702Z"
    }
   },
   "outputs": [
    {
     "name": "stdout",
     "output_type": "stream",
     "text": [
      "\r\n",
      "    Saved answers at ../_build/notebooks/answers.json \r\n",
      "\r\n",
      "    Saved ground truth at ../_build/notebooks/ground_truth.npy\r\n",
      "    \r\n"
     ]
    }
   ],
   "source": [
    "from pathlib import Path\n",
    "path = (Path() / \"..\" / \"_build\" / \"notebooks\")\n",
    "path.mkdir(exist_ok=True, parents=True)\n",
    "\n",
    "! peerannot simulate --n-worker=30 --n-task=200  --n-classes=5 \\\n",
    "                     --strategy independent-confusion \\\n",
    "                     --feedback=10 --seed 0 \\\n",
    "                     --folder ../_build/notebooks/"
   ]
  },
  {
   "cell_type": "markdown",
   "metadata": {},
   "source": [
    "We can visualize the generated votes and the true labels of the tasks.\n",
    "For example let us consider task 5:"
   ]
  },
  {
   "cell_type": "code",
   "execution_count": 2,
   "metadata": {
    "execution": {
     "iopub.execute_input": "2024-06-25T07:29:57.344716Z",
     "iopub.status.busy": "2024-06-25T07:29:57.344358Z",
     "iopub.status.idle": "2024-06-25T07:29:57.922288Z",
     "shell.execute_reply": "2024-06-25T07:29:57.921762Z"
    }
   },
   "outputs": [
    {
     "name": "stdout",
     "output_type": "stream",
     "text": [
      "Task 5: {'2': 1, '3': 0, '4': 0, '5': 3, '9': 0, '11': 1, '15': 2, '17': 4, '21': 0, '26': 2}\n",
      "Number of votes: 10\n",
      "Ground truth: 0\n"
     ]
    },
    {
     "data": {
      "image/png": "[encoded data removed]",
      "text/plain": [
       "<Figure size 640x480 with 1 Axes>"
      ]
     },
     "metadata": {},
     "output_type": "display_data"
    }
   ],
   "source": [
    "import json\n",
    "import numpy as np\n",
    "import matplotlib.pyplot as plt\n",
    "\n",
    "with open(path / \"answers.json\") as f:\n",
    "    answers = json.load(f)\n",
    "gt = np.load(path / \"ground_truth.npy\")\n",
    "\n",
    "print(\"Task 5:\", answers[\"5\"])\n",
    "print(\"Number of votes:\", len(answers[\"5\"]))\n",
    "print(\"Ground truth:\", gt[5])\n",
    "fig, ax = plt.subplots()\n",
    "\n",
    "counts = np.bincount(list(answers[\"5\"].values()), minlength=5)\n",
    "classes = [f\"class {str(i)}\" for i in [0, 1, 2, 3, 4]]\n",
    "\n",
    "ax.bar(classes, counts)\n",
    "plt.yticks(range(0, max(counts)+1))\n",
    "ax.set_ylabel(\"Number of votes\")\n",
    "ax.set_title(\"Number of votes for each class for task 5\")\n",
    "plt.tight_layout()\n",
    "plt.show()"
   ]
  },
  {
   "cell_type": "markdown",
   "metadata": {},
   "source": [
    "Command Line Aggregation\n",
    "------------------------\n",
    "\n",
    "Let us run some aggregation methods on the dataset we just generated using the command line interface."
   ]
  },
  {
   "cell_type": "code",
   "execution_count": 3,
   "metadata": {
    "execution": {
     "iopub.execute_input": "2024-06-25T07:29:57.925293Z",
     "iopub.status.busy": "2024-06-25T07:29:57.924963Z",
     "iopub.status.idle": "2024-06-25T07:31:00.661166Z",
     "shell.execute_reply": "2024-06-25T07:31:00.660179Z"
    }
   },
   "outputs": [
    {
     "name": "stdout",
     "output_type": "stream",
     "text": [
      "Running aggregation mv with options {}\r\n",
      "Aggregated labels stored at /home/circleci/project/doc/_build/notebooks/labels/labels_independent-confusion_mv.npy with shape (200,)\r\n"
     ]
    },
    {
     "name": "stdout",
     "output_type": "stream",
     "text": [
      "Running aggregation naivesoft with options {}\r\n",
      "Aggregated labels stored at /home/circleci/project/doc/_build/notebooks/labels/labels_independent-confusion_naivesoft.npy with shape (200, 5)\r\n"
     ]
    },
    {
     "name": "stdout",
     "output_type": "stream",
     "text": [
      "Running aggregation ds with options {}\r\n"
     ]
    },
    {
     "name": "stdout",
     "output_type": "stream",
     "text": [
      "\r",
      "Dawid and Skene:   0%|                                   | 0/50 [00:00<?, ?it/s]"
     ]
    },
    {
     "name": "stdout",
     "output_type": "stream",
     "text": [
      "\r",
      "Dawid and Skene:  26%|██████▌                  | 13/50 [00:00<00:00, 123.60it/s]"
     ]
    },
    {
     "name": "stdout",
     "output_type": "stream",
     "text": [
      "\r",
      "Finished:  40%|████████████▊                   | 20/50 [00:00<00:00, 123.60it/s]\r",
      "Finished:  40%|████████████▊                   | 20/50 [00:00<00:00, 122.65it/s]\r\n",
      "Aggregated labels stored at /home/circleci/project/doc/_build/notebooks/labels/labels_independent-confusion_ds.npy with shape (200, 5)\r\n"
     ]
    },
    {
     "name": "stdout",
     "output_type": "stream",
     "text": [
      "Running aggregation glad with options {}\r\n",
      "- Running EM\r\n"
     ]
    },
    {
     "name": "stdout",
     "output_type": "stream",
     "text": [
      "\r",
      "  0%|                                                    | 0/50 [00:00<?, ?it/s]"
     ]
    },
    {
     "name": "stdout",
     "output_type": "stream",
     "text": [
      "\r",
      "  2%|▉                                           | 1/50 [00:00<00:46,  1.05it/s]"
     ]
    },
    {
     "name": "stdout",
     "output_type": "stream",
     "text": [
      "\r",
      "  4%|█▊                                          | 2/50 [00:01<00:46,  1.03it/s]"
     ]
    },
    {
     "name": "stdout",
     "output_type": "stream",
     "text": [
      "\r",
      "  6%|██▋                                         | 3/50 [00:02<00:46,  1.01it/s]"
     ]
    },
    {
     "name": "stdout",
     "output_type": "stream",
     "text": [
      "\r",
      "  8%|███▌                                        | 4/50 [00:03<00:45,  1.02it/s]"
     ]
    },
    {
     "name": "stdout",
     "output_type": "stream",
     "text": [
      "\r",
      " 10%|████▍                                       | 5/50 [00:04<00:44,  1.01it/s]"
     ]
    },
    {
     "name": "stdout",
     "output_type": "stream",
     "text": [
      "\r",
      " 12%|█████▎                                      | 6/50 [00:06<00:45,  1.02s/it]"
     ]
    },
    {
     "name": "stdout",
     "output_type": "stream",
     "text": [
      "\r",
      " 14%|██████▏                                     | 7/50 [00:06<00:42,  1.00it/s]"
     ]
    },
    {
     "name": "stdout",
     "output_type": "stream",
     "text": [
      "\r",
      " 16%|███████                                     | 8/50 [00:07<00:41,  1.02it/s]"
     ]
    },
    {
     "name": "stdout",
     "output_type": "stream",
     "text": [
      "\r",
      " 18%|███████▉                                    | 9/50 [00:08<00:39,  1.04it/s]"
     ]
    },
    {
     "name": "stdout",
     "output_type": "stream",
     "text": [
      "\r",
      " 20%|████████▌                                  | 10/50 [00:09<00:38,  1.04it/s]"
     ]
    },
    {
     "name": "stdout",
     "output_type": "stream",
     "text": [
      "\r",
      " 22%|█████████▍                                 | 11/50 [00:10<00:35,  1.09it/s]"
     ]
    },
    {
     "name": "stdout",
     "output_type": "stream",
     "text": [
      "\r",
      " 24%|██████████▎                                | 12/50 [00:11<00:34,  1.11it/s]"
     ]
    },
    {
     "name": "stdout",
     "output_type": "stream",
     "text": [
      "\r",
      " 26%|███████████▏                               | 13/50 [00:12<00:34,  1.08it/s]"
     ]
    },
    {
     "name": "stdout",
     "output_type": "stream",
     "text": [
      "\r",
      " 28%|████████████                               | 14/50 [00:13<00:32,  1.11it/s]"
     ]
    },
    {
     "name": "stdout",
     "output_type": "stream",
     "text": [
      "\r",
      " 30%|████████████▉                              | 15/50 [00:14<00:31,  1.10it/s]"
     ]
    },
    {
     "name": "stdout",
     "output_type": "stream",
     "text": [
      "\r",
      " 32%|█████████████▊                             | 16/50 [00:15<00:31,  1.08it/s]"
     ]
    },
    {
     "name": "stdout",
     "output_type": "stream",
     "text": [
      "\r",
      " 34%|██████████████▌                            | 17/50 [00:15<00:29,  1.13it/s]"
     ]
    },
    {
     "name": "stdout",
     "output_type": "stream",
     "text": [
      "\r",
      " 36%|███████████████▍                           | 18/50 [00:16<00:29,  1.10it/s]"
     ]
    },
    {
     "name": "stdout",
     "output_type": "stream",
     "text": [
      "\r",
      " 38%|████████████████▎                          | 19/50 [00:17<00:27,  1.11it/s]"
     ]
    },
    {
     "name": "stdout",
     "output_type": "stream",
     "text": [
      "\r",
      " 40%|█████████████████▏                         | 20/50 [00:18<00:27,  1.09it/s]"
     ]
    },
    {
     "name": "stdout",
     "output_type": "stream",
     "text": [
      "\r",
      " 42%|██████████████████                         | 21/50 [00:19<00:27,  1.07it/s]"
     ]
    },
    {
     "name": "stdout",
     "output_type": "stream",
     "text": [
      "\r",
      " 44%|██████████████████▉                        | 22/50 [00:20<00:25,  1.09it/s]"
     ]
    },
    {
     "name": "stdout",
     "output_type": "stream",
     "text": [
      "\r",
      " 46%|███████████████████▊                       | 23/50 [00:21<00:25,  1.05it/s]"
     ]
    },
    {
     "name": "stdout",
     "output_type": "stream",
     "text": [
      "\r",
      " 48%|████████████████████▋                      | 24/50 [00:22<00:24,  1.06it/s]"
     ]
    },
    {
     "name": "stdout",
     "output_type": "stream",
     "text": [
      "\r",
      " 50%|█████████████████████▌                     | 25/50 [00:23<00:23,  1.06it/s]"
     ]
    },
    {
     "name": "stdout",
     "output_type": "stream",
     "text": [
      "\r",
      " 52%|██████████████████████▎                    | 26/50 [00:24<00:21,  1.14it/s]"
     ]
    },
    {
     "name": "stdout",
     "output_type": "stream",
     "text": [
      "\r",
      " 54%|███████████████████████▏                   | 27/50 [00:24<00:19,  1.21it/s]"
     ]
    },
    {
     "name": "stdout",
     "output_type": "stream",
     "text": [
      "\r",
      " 56%|████████████████████████                   | 28/50 [00:25<00:18,  1.19it/s]"
     ]
    },
    {
     "name": "stdout",
     "output_type": "stream",
     "text": [
      "\r",
      " 58%|████████████████████████▉                  | 29/50 [00:26<00:16,  1.27it/s]"
     ]
    },
    {
     "name": "stdout",
     "output_type": "stream",
     "text": [
      "\r",
      " 60%|█████████████████████████▊                 | 30/50 [00:27<00:15,  1.33it/s]"
     ]
    },
    {
     "name": "stdout",
     "output_type": "stream",
     "text": [
      "\r",
      " 62%|██████████████████████████▋                | 31/50 [00:27<00:13,  1.40it/s]"
     ]
    },
    {
     "name": "stdout",
     "output_type": "stream",
     "text": [
      "\r",
      " 64%|███████████████████████████▌               | 32/50 [00:28<00:13,  1.35it/s]"
     ]
    },
    {
     "name": "stdout",
     "output_type": "stream",
     "text": [
      "\r",
      " 66%|████████████████████████████▍              | 33/50 [00:29<00:12,  1.39it/s]"
     ]
    },
    {
     "name": "stdout",
     "output_type": "stream",
     "text": [
      "\r",
      " 68%|█████████████████████████████▏             | 34/50 [00:30<00:11,  1.36it/s]"
     ]
    },
    {
     "name": "stdout",
     "output_type": "stream",
     "text": [
      "\r",
      " 70%|██████████████████████████████             | 35/50 [00:30<00:11,  1.33it/s]"
     ]
    },
    {
     "name": "stdout",
     "output_type": "stream",
     "text": [
      "\r",
      " 72%|██████████████████████████████▉            | 36/50 [00:31<00:09,  1.40it/s]"
     ]
    },
    {
     "name": "stdout",
     "output_type": "stream",
     "text": [
      "\r",
      " 74%|███████████████████████████████▊           | 37/50 [00:32<00:09,  1.31it/s]\r",
      "Finished:  74%|████████████████████████▍        | 37/50 [00:32<00:09,  1.31it/s]\r",
      "Finished:  74%|████████████████████████▍        | 37/50 [00:32<00:11,  1.15it/s]\r\n",
      "Task difficulty coefficients saved at /home/circleci/project/doc/_build/notebooks/identification/glad/difficulties.npy\r\n",
      "Worker ability coefficients saved at /home/circleci/project/doc/_build/notebooks/identification/glad/abilities.npy\r\n",
      "Aggregated labels stored at /home/circleci/project/doc/_build/notebooks/labels/labels_independent-confusion_glad.npy with shape (200, 5)\r\n"
     ]
    },
    {
     "name": "stdout",
     "output_type": "stream",
     "text": [
      "Running aggregation dswc with options {'L': 5}\r\n"
     ]
    },
    {
     "name": "stdout",
     "output_type": "stream",
     "text": [
      "Aggregated labels stored at /home/circleci/project/doc/_build/notebooks/labels/labels_independent-confusion_dswc[l=5].npy with shape (200, 5)\r\n"
     ]
    },
    {
     "name": "stdout",
     "output_type": "stream",
     "text": [
      "Running aggregation wawa with options {}\r\n",
      "/home/circleci/project/peerannot/models/aggregation/Wawa.py:59: UserWarning: \r\n",
      "            Wawa aggregation only returns hard labels.\r\n",
      "            Defaulting to ``get_answers()``.\r\n",
      "            \r\n",
      "  warnings.warn(\r\n",
      "Aggregated labels stored at /home/circleci/project/doc/_build/notebooks/labels/labels_independent-confusion_wawa.npy with shape (200,)\r\n"
     ]
    }
   ],
   "source": [
    "for strat in [\"MV\", \"NaiveSoft\", \"DS\", \"GLAD\", \"DSWC[L=5]\", \"Wawa\"]:\n",
    "    ! peerannot aggregate ../_build/notebooks/ -s {strat}"
   ]
  },
  {
   "cell_type": "markdown",
   "metadata": {},
   "source": [
    "Now, as we know the ground truth we can evaluate the performance of the aggregation methods.\n",
    "In this example we consider the accuracy. Other metrics such as F1-scores, precision, recall, etc. can be used."
   ]
  },
  {
   "cell_type": "code",
   "execution_count": 4,
   "metadata": {
    "execution": {
     "iopub.execute_input": "2024-06-25T07:31:00.664517Z",
     "iopub.status.busy": "2024-06-25T07:31:00.664139Z",
     "iopub.status.idle": "2024-06-25T07:31:00.989106Z",
     "shell.execute_reply": "2024-06-25T07:31:00.988381Z"
    }
   },
   "outputs": [
    {
     "data": {
      "text/html": [
       "<style type=\"text/css\">\n",
       "#T_cbcf9 th {\n",
       "  text-align: center;\n",
       "}\n",
       "#T_cbcf9_row0_col0, #T_cbcf9_row0_col1, #T_cbcf9_row0_col2, #T_cbcf9_row0_col3, #T_cbcf9_row0_col4, #T_cbcf9_row0_col5 {\n",
       "  text-align: center;\n",
       "}\n",
       "</style>\n",
       "<table id=\"T_cbcf9\">\n",
       "  <thead>\n",
       "    <tr>\n",
       "      <th class=\"blank level0\" >&nbsp;</th>\n",
       "      <th id=\"T_cbcf9_level0_col0\" class=\"col_heading level0 col0\" >MV</th>\n",
       "      <th id=\"T_cbcf9_level0_col1\" class=\"col_heading level0 col1\" >GLAD</th>\n",
       "      <th id=\"T_cbcf9_level0_col2\" class=\"col_heading level0 col2\" >DS</th>\n",
       "      <th id=\"T_cbcf9_level0_col3\" class=\"col_heading level0 col3\" >WAWA</th>\n",
       "      <th id=\"T_cbcf9_level0_col4\" class=\"col_heading level0 col4\" >DSWC[L=5]</th>\n",
       "      <th id=\"T_cbcf9_level0_col5\" class=\"col_heading level0 col5\" >NS</th>\n",
       "    </tr>\n",
       "  </thead>\n",
       "  <tbody>\n",
       "    <tr>\n",
       "      <th id=\"T_cbcf9_level0_row0\" class=\"row_heading level0 row0\" >AccTrain</th>\n",
       "      <td id=\"T_cbcf9_row0_col0\" class=\"data row0 col0\" >0.750</td>\n",
       "      <td id=\"T_cbcf9_row0_col1\" class=\"data row0 col1\" >0.780</td>\n",
       "      <td id=\"T_cbcf9_row0_col2\" class=\"data row0 col2\" >0.890</td>\n",
       "      <td id=\"T_cbcf9_row0_col3\" class=\"data row0 col3\" >0.790</td>\n",
       "      <td id=\"T_cbcf9_row0_col4\" class=\"data row0 col4\" >0.775</td>\n",
       "      <td id=\"T_cbcf9_row0_col5\" class=\"data row0 col5\" >0.760</td>\n",
       "    </tr>\n",
       "  </tbody>\n",
       "</table>\n"
      ],
      "text/plain": [
       "<pandas.io.formats.style.Styler at 0x7f02bebeb190>"
      ]
     },
     "execution_count": 4,
     "metadata": {},
     "output_type": "execute_result"
    }
   ],
   "source": [
    "import pandas as pd\n",
    "\n",
    "def accuracy(labels, gt):\n",
    "    return np.mean(labels == gt) if labels.ndim == 1 else np.mean(np.argmax(labels, axis=1) == gt)\n",
    "\n",
    "results = {  # initialize results dictionary\n",
    "    \"mv\": [],\n",
    "    \"naivesoft\": [],\n",
    "    \"glad\": [],\n",
    "    \"ds\": [],\n",
    "    \"wawa\": [],\n",
    "    \"dswc[l=5]\": [],\n",
    "}\n",
    "for strategy in results.keys():\n",
    "    path_labels = path / \"labels\" / f\"labels_independent-confusion_{strategy}.npy\"\n",
    "    labels = np.load(path_labels)  # load aggregated labels\n",
    "    results[strategy].append(accuracy(labels, gt))  # compute accuracy\n",
    "results[\"NS\"] = results[\"naivesoft\"]  # rename naivesoft to NS\n",
    "results.pop(\"naivesoft\")\n",
    "\n",
    "# Styling the results\n",
    "results = pd.DataFrame(results, index=[\"AccTrain\"])\n",
    "results.columns = map(str.upper, results.columns)\n",
    "results = results.style.set_table_styles(\n",
    "    [dict(selector=\"th\", props=[(\"text-align\", \"center\")])]\n",
    ")\n",
    "results.set_properties(**{\"text-align\": \"center\"})\n",
    "results = results.format(precision=3)\n",
    "results"
   ]
  },
  {
   "cell_type": "markdown",
   "metadata": {},
   "source": [
    "API Aggregation\n",
    "------------------------\n",
    "\n",
    "We showed how to use the command line interface, but what about the API?\n",
    "It's just as simple!"
   ]
  },
  {
   "cell_type": "code",
   "execution_count": 5,
   "metadata": {
    "execution": {
     "iopub.execute_input": "2024-06-25T07:31:00.991841Z",
     "iopub.status.busy": "2024-06-25T07:31:00.991505Z",
     "iopub.status.idle": "2024-06-25T07:31:24.868611Z",
     "shell.execute_reply": "2024-06-25T07:31:24.867874Z"
    }
   },
   "outputs": [
    {
     "name": "stderr",
     "output_type": "stream",
     "text": [
      "/home/circleci/miniconda/lib/python3.10/site-packages/tqdm/auto.py:21: TqdmWarning: IProgress not found. Please update jupyter and ipywidgets. See https://ipywidgets.readthedocs.io/en/stable/user_install.html\n",
      "  from .autonotebook import tqdm as notebook_tqdm\n"
     ]
    },
    {
     "name": "stdout",
     "output_type": "stream",
     "text": [
      "- Running EM\n"
     ]
    },
    {
     "name": "stderr",
     "output_type": "stream",
     "text": [
      "\r",
      "  0% 0/20 [00:00<?, ?it/s]"
     ]
    },
    {
     "name": "stderr",
     "output_type": "stream",
     "text": [
      "\r",
      "  5% 1/20 [00:00<00:18,  1.04it/s]"
     ]
    },
    {
     "name": "stderr",
     "output_type": "stream",
     "text": [
      "\r",
      " 10% 2/20 [00:01<00:17,  1.00it/s]"
     ]
    },
    {
     "name": "stderr",
     "output_type": "stream",
     "text": [
      "\r",
      " 15% 3/20 [00:02<00:17,  1.00s/it]"
     ]
    },
    {
     "name": "stderr",
     "output_type": "stream",
     "text": [
      "\r",
      " 20% 4/20 [00:03<00:15,  1.02it/s]"
     ]
    },
    {
     "name": "stderr",
     "output_type": "stream",
     "text": [
      "\r",
      " 25% 5/20 [00:04<00:14,  1.04it/s]"
     ]
    },
    {
     "name": "stderr",
     "output_type": "stream",
     "text": [
      "\r",
      " 30% 6/20 [00:05<00:13,  1.03it/s]"
     ]
    },
    {
     "name": "stderr",
     "output_type": "stream",
     "text": [
      "\r",
      " 35% 7/20 [00:06<00:12,  1.04it/s]"
     ]
    },
    {
     "name": "stderr",
     "output_type": "stream",
     "text": [
      "\r",
      " 40% 8/20 [00:07<00:11,  1.03it/s]"
     ]
    },
    {
     "name": "stderr",
     "output_type": "stream",
     "text": [
      "\r",
      " 45% 9/20 [00:08<00:10,  1.00it/s]"
     ]
    },
    {
     "name": "stderr",
     "output_type": "stream",
     "text": [
      "\r",
      " 50% 10/20 [00:09<00:10,  1.02s/it]"
     ]
    },
    {
     "name": "stderr",
     "output_type": "stream",
     "text": [
      "\r",
      " 55% 11/20 [00:10<00:08,  1.03it/s]"
     ]
    },
    {
     "name": "stderr",
     "output_type": "stream",
     "text": [
      "\r",
      " 60% 12/20 [00:11<00:07,  1.06it/s]"
     ]
    },
    {
     "name": "stderr",
     "output_type": "stream",
     "text": [
      "\r",
      " 65% 13/20 [00:12<00:06,  1.04it/s]"
     ]
    },
    {
     "name": "stderr",
     "output_type": "stream",
     "text": [
      "\r",
      " 70% 14/20 [00:13<00:05,  1.08it/s]"
     ]
    },
    {
     "name": "stderr",
     "output_type": "stream",
     "text": [
      "\r",
      " 75% 15/20 [00:14<00:04,  1.08it/s]"
     ]
    },
    {
     "name": "stderr",
     "output_type": "stream",
     "text": [
      "\r",
      " 80% 16/20 [00:15<00:03,  1.07it/s]"
     ]
    },
    {
     "name": "stderr",
     "output_type": "stream",
     "text": [
      "\r",
      " 85% 17/20 [00:16<00:02,  1.09it/s]"
     ]
    },
    {
     "name": "stderr",
     "output_type": "stream",
     "text": [
      "\r",
      " 90% 18/20 [00:17<00:01,  1.09it/s]"
     ]
    },
    {
     "name": "stderr",
     "output_type": "stream",
     "text": [
      "\r",
      " 95% 19/20 [00:18<00:00,  1.09it/s]"
     ]
    },
    {
     "name": "stderr",
     "output_type": "stream",
     "text": [
      "\r",
      "100% 20/20 [00:19<00:00,  1.07it/s]"
     ]
    },
    {
     "name": "stderr",
     "output_type": "stream",
     "text": [
      "\r",
      "21it [00:20,  1.06it/s]            "
     ]
    },
    {
     "name": "stderr",
     "output_type": "stream",
     "text": [
      "\r",
      "Finished: : 21it [00:20,  1.06it/s]"
     ]
    },
    {
     "name": "stderr",
     "output_type": "stream",
     "text": [
      "\r",
      "Finished: : 21it [00:20,  1.05it/s]"
     ]
    },
    {
     "name": "stderr",
     "output_type": "stream",
     "text": [
      "\n"
     ]
    },
    {
     "name": "stdout",
     "output_type": "stream",
     "text": [
      "Task difficulty coefficients saved at /home/circleci/project/doc/_build/notebooks/identification/glad/difficulties.npy\n",
      "Worker ability coefficients saved at /home/circleci/project/doc/_build/notebooks/identification/glad/abilities.npy\n"
     ]
    },
    {
     "name": "stderr",
     "output_type": "stream",
     "text": [
      "\r",
      "Dawid and Skene:   0% 0/20 [00:00<?, ?it/s]"
     ]
    },
    {
     "name": "stderr",
     "output_type": "stream",
     "text": [
      "\r",
      "Dawid and Skene:  65% 13/20 [00:00<00:00, 126.55it/s]"
     ]
    },
    {
     "name": "stderr",
     "output_type": "stream",
     "text": [
      "\r",
      "Finished: 100% 20/20 [00:00<00:00, 126.55it/s]       "
     ]
    },
    {
     "name": "stderr",
     "output_type": "stream",
     "text": [
      "\r",
      "Finished: 100% 20/20 [00:00<00:00, 124.01it/s]"
     ]
    },
    {
     "name": "stderr",
     "output_type": "stream",
     "text": [
      "\n"
     ]
    }
   ],
   "source": [
    "from peerannot.models import agg_strategies\n",
    "\n",
    "strategies = [\"MV\", \"GLAD\", \"DS\", \"NaiveSoft\", \"DSWC\", \"Wawa\"]\n",
    "yhats = []\n",
    "for strat in strategies:\n",
    "    agg = agg_strategies[strat]\n",
    "    if strat != \"DSWC\":\n",
    "        agg = agg(answers, n_classes=5, n_workers=30, n_tasks=200, dataset=path)\n",
    "    else:\n",
    "        agg = agg(answers, L=5, n_classes=5, n_workers=30, n_tasks=200)\n",
    "    if hasattr(agg, \"run\"):\n",
    "        agg.run(maxiter=20)\n",
    "    yhats.append(agg.get_answers())"
   ]
  },
  {
   "cell_type": "code",
   "execution_count": 6,
   "metadata": {
    "execution": {
     "iopub.execute_input": "2024-06-25T07:31:24.872124Z",
     "iopub.status.busy": "2024-06-25T07:31:24.871623Z",
     "iopub.status.idle": "2024-06-25T07:31:24.883003Z",
     "shell.execute_reply": "2024-06-25T07:31:24.882300Z"
    }
   },
   "outputs": [
    {
     "data": {
      "text/html": [
       "<style type=\"text/css\">\n",
       "#T_a8832 th {\n",
       "  text-align: center;\n",
       "}\n",
       "#T_a8832_row0_col0, #T_a8832_row0_col1, #T_a8832_row0_col2, #T_a8832_row0_col3, #T_a8832_row0_col4, #T_a8832_row0_col5 {\n",
       "  text-align: center;\n",
       "}\n",
       "</style>\n",
       "<table id=\"T_a8832\">\n",
       "  <thead>\n",
       "    <tr>\n",
       "      <th class=\"blank level0\" >&nbsp;</th>\n",
       "      <th id=\"T_a8832_level0_col0\" class=\"col_heading level0 col0\" >MV</th>\n",
       "      <th id=\"T_a8832_level0_col1\" class=\"col_heading level0 col1\" >GLAD</th>\n",
       "      <th id=\"T_a8832_level0_col2\" class=\"col_heading level0 col2\" >DS</th>\n",
       "      <th id=\"T_a8832_level0_col3\" class=\"col_heading level0 col3\" >DSWC[L=5]</th>\n",
       "      <th id=\"T_a8832_level0_col4\" class=\"col_heading level0 col4\" >WAWA</th>\n",
       "      <th id=\"T_a8832_level0_col5\" class=\"col_heading level0 col5\" >NS</th>\n",
       "    </tr>\n",
       "  </thead>\n",
       "  <tbody>\n",
       "    <tr>\n",
       "      <th id=\"T_a8832_level0_row0\" class=\"row_heading level0 row0\" >AccTrain</th>\n",
       "      <td id=\"T_a8832_row0_col0\" class=\"data row0 col0\" >0.775</td>\n",
       "      <td id=\"T_a8832_row0_col1\" class=\"data row0 col1\" >0.775</td>\n",
       "      <td id=\"T_a8832_row0_col2\" class=\"data row0 col2\" >0.890</td>\n",
       "      <td id=\"T_a8832_row0_col3\" class=\"data row0 col3\" >0.775</td>\n",
       "      <td id=\"T_a8832_row0_col4\" class=\"data row0 col4\" >0.790</td>\n",
       "      <td id=\"T_a8832_row0_col5\" class=\"data row0 col5\" >0.760</td>\n",
       "    </tr>\n",
       "  </tbody>\n",
       "</table>\n"
      ],
      "text/plain": [
       "<pandas.io.formats.style.Styler at 0x7f01ca03f790>"
      ]
     },
     "execution_count": 6,
     "metadata": {},
     "output_type": "execute_result"
    }
   ],
   "source": [
    "results = {  # initialize results dictionary\n",
    "    \"mv\": [],\n",
    "    \"glad\": [],\n",
    "    \"ds\": [],\n",
    "    \"naivesoft\": [],\n",
    "    \"dswc[l=5]\": [],\n",
    "    \"wawa\": [],\n",
    "}\n",
    "for i, strategy in enumerate(results.keys()):\n",
    "    labels = yhats[i] # load aggregated labels\n",
    "    results[strategy].append(accuracy(labels, gt))  # compute accuracy\n",
    "results[\"NS\"] = results[\"naivesoft\"]  # rename naivesoft to NS\n",
    "results.pop(\"naivesoft\")\n",
    "\n",
    "# Styling the results\n",
    "results = pd.DataFrame(results, index=[\"AccTrain\"])\n",
    "results.columns = map(str.upper, results.columns)\n",
    "results = results.style.set_table_styles(\n",
    "    [dict(selector=\"th\", props=[(\"text-align\", \"center\")])]\n",
    ")\n",
    "results.set_properties(**{\"text-align\": \"center\"})\n",
    "results = results.format(precision=3)\n",
    "results"
   ]
  },
  {
   "cell_type": "markdown",
   "metadata": {},
   "source": [
    "The difference in performance shown result from the random tie-breaks generated."
   ]
  }
 ],
 "metadata": {
  "kernelspec": {
   "display_name": "peerannot",
   "language": "python",
   "name": "python3"
  },
  "language_info": {
   "codemirror_mode": {
    "name": "ipython",
    "version": 3
   },
   "file_extension": ".py",
   "mimetype": "text/x-python",
   "name": "python",
   "nbconvert_exporter": "python",
   "pygments_lexer": "ipython3",
   "version": "3.10.14"
  }
 },
 "nbformat": 4,
 "nbformat_minor": 2
}
