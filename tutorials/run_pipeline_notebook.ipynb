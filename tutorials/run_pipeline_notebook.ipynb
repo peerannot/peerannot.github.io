{
 "cells": [
  {
   "cell_type": "markdown",
   "metadata": {},
   "source": [
    "## Simulate the dataset"
   ]
  },
  {
   "cell_type": "markdown",
   "metadata": {},
   "source": [
    "We simulate 40 workers in a hammer-spammer setting. There are $100\\times 0.7=70$ spammers that will answer randomly. All other workers answer the true labels."
   ]
  },
  {
   "cell_type": "code",
   "execution_count": 1,
   "metadata": {
    "execution": {
     "iopub.execute_input": "2024-06-25T07:31:27.453063Z",
     "iopub.status.busy": "2024-06-25T07:31:27.452673Z",
     "iopub.status.idle": "2024-06-25T07:31:32.787337Z",
     "shell.execute_reply": "2024-06-25T07:31:32.786619Z"
    }
   },
   "outputs": [
    {
     "name": "stdout",
     "output_type": "stream",
     "text": [
      "\r\n",
      "    Saved answers at ../_build/notebooks/answers.json \r\n",
      "\r\n",
      "    Saved ground truth at ../_build/notebooks/ground_truth.npy\r\n",
      "    \r\n"
     ]
    }
   ],
   "source": [
    "from pathlib import Path\n",
    "path = (Path() / \"..\" / \"_build\" / \"notebooks\")\n",
    "path.mkdir(exist_ok=True, parents=True)\n",
    "\n",
    "! peerannot simulate --n-worker=100 --n-task=300  --n-classes=5 \\\n",
    "                     --strategy hammer-spammer \\\n",
    "                     --ratio 0.7 \\\n",
    "                     --feedback=10 --seed 0 \\\n",
    "                     --folder {path}"
   ]
  },
  {
   "cell_type": "markdown",
   "metadata": {},
   "source": [
    "Note that if the dataset comes with an install file (like the `LabelMe` dataset available in peerannot), simply run the install file to download the dataset:\n",
    "\n",
    "```\n",
    "$ peerannot install labelme.py\n",
    "```\n",
    "\n",
    "Below, we always precise where the labels are stored in the dataset. This is to hilight that multiple datasets can be used with the same code, as long as the labels are stored in the same way."
   ]
  },
  {
   "cell_type": "markdown",
   "metadata": {},
   "source": [
    "## Value of the krippendorff alpha\n",
    "\n",
    "The closer to 0, the less reliable the data. The closer to 1, the more reliable the data.\n"
   ]
  },
  {
   "cell_type": "code",
   "execution_count": 2,
   "metadata": {
    "execution": {
     "iopub.execute_input": "2024-06-25T07:31:32.791402Z",
     "iopub.status.busy": "2024-06-25T07:31:32.791032Z",
     "iopub.status.idle": "2024-06-25T07:31:41.862896Z",
     "shell.execute_reply": "2024-06-25T07:31:41.862073Z"
    }
   },
   "outputs": [
    {
     "name": "stdout",
     "output_type": "stream",
     "text": [
      "Running the following configuration:\r\n",
      "----------\r\n",
      "- Data at ../_build/notebooks\r\n",
      "- number of classes: 5\r\n",
      "- labels: ../_build/notebooks/answers.json\r\n",
      "- hard_labels: None\r\n",
      "- use_pleiss: False\r\n",
      "- model: resnet18\r\n",
      "- n_epochs: 50\r\n",
      "- alpha: 0.01\r\n",
      "- topk: 0\r\n",
      "- n_params: 3072\r\n",
      "- lr: 0.1\r\n",
      "- pretrained: False\r\n",
      "- momentum: 0.9\r\n",
      "- metadata_path: None\r\n",
      "- decay: 0.0005\r\n",
      "- img_size: 224\r\n",
      "- maxiter_ds: 50\r\n",
      "- optimizer: SGD\r\n",
      "- data_augmentation: False\r\n",
      "- freeze: False\r\n",
      "- matrix_file: None\r\n",
      "- seed: 0\r\n",
      "----------\r\n"
     ]
    },
    {
     "name": "stdout",
     "output_type": "stream",
     "text": [
      "alpha saved at /home/circleci/project/doc/_build/notebooks/identification/krippendorff_alpha.npy \r\n",
      " alpha=np.float64(0.08172184891604384)\r\n"
     ]
    }
   ],
   "source": [
    "! peerannot identify -s krippendorffalpha {path} \\\n",
    "                     --labels {path}/answers.json \\\n",
    "                     --n-classes 5\n"
   ]
  },
  {
   "cell_type": "markdown",
   "metadata": {},
   "source": [
    "We obtain $\\alpha\\simeq 0.08$ which indicates that the data is not reliable."
   ]
  },
  {
   "cell_type": "markdown",
   "metadata": {},
   "source": [
    "## Identify spammers"
   ]
  },
  {
   "cell_type": "markdown",
   "metadata": {},
   "source": [
    "If there are ambiguities, we can identify spammers by looking at the spammer score. The closer to 0, the more likely the annotator is a spammer."
   ]
  },
  {
   "cell_type": "code",
   "execution_count": 3,
   "metadata": {
    "execution": {
     "iopub.execute_input": "2024-06-25T07:31:41.867229Z",
     "iopub.status.busy": "2024-06-25T07:31:41.866870Z",
     "iopub.status.idle": "2024-06-25T07:31:46.876884Z",
     "shell.execute_reply": "2024-06-25T07:31:46.875981Z"
    }
   },
   "outputs": [
    {
     "name": "stdout",
     "output_type": "stream",
     "text": [
      "Running the following configuration:\r\n",
      "----------\r\n",
      "- Data at ../_build/notebooks\r\n",
      "- number of classes: 5\r\n",
      "- labels: ../_build/notebooks/answers.json\r\n",
      "- hard_labels: None\r\n",
      "- use_pleiss: False\r\n",
      "- model: resnet18\r\n",
      "- n_epochs: 50\r\n",
      "- alpha: 0.01\r\n",
      "- topk: 0\r\n",
      "- n_params: 3072\r\n",
      "- lr: 0.1\r\n",
      "- pretrained: False\r\n",
      "- momentum: 0.9\r\n",
      "- metadata_path: None\r\n",
      "- decay: 0.0005\r\n",
      "- img_size: 224\r\n",
      "- maxiter_ds: 50\r\n",
      "- optimizer: SGD\r\n",
      "- data_augmentation: False\r\n",
      "- freeze: False\r\n",
      "- matrix_file: None\r\n",
      "- seed: 0\r\n",
      "----------\r\n",
      "Running DS model\r\n"
     ]
    },
    {
     "name": "stdout",
     "output_type": "stream",
     "text": [
      "\r",
      "Dawid and Skene:   0%|                                   | 0/50 [00:00<?, ?it/s]"
     ]
    },
    {
     "name": "stdout",
     "output_type": "stream",
     "text": [
      "\r",
      "Dawid and Skene:  14%|███▊                       | 7/50 [00:00<00:00, 62.16it/s]"
     ]
    },
    {
     "name": "stdout",
     "output_type": "stream",
     "text": [
      "\r",
      "Finished:  22%|███████▎                         | 11/50 [00:00<00:00, 62.16it/s]\r",
      "Finished:  22%|███████▎                         | 11/50 [00:00<00:00, 55.62it/s]\r\n",
      "Spam scores saved at /home/circleci/project/doc/_build/notebooks/identification/spam_score.npy\r\n"
     ]
    }
   ],
   "source": [
    "! peerannot identify -s spam_score {path} \\\n",
    "                     --labels {path}/answers.json \\\n",
    "                     --n-classes 5"
   ]
  },
  {
   "cell_type": "code",
   "execution_count": 4,
   "metadata": {
    "execution": {
     "iopub.execute_input": "2024-06-25T07:31:46.880845Z",
     "iopub.status.busy": "2024-06-25T07:31:46.880395Z",
     "iopub.status.idle": "2024-06-25T07:31:47.713223Z",
     "shell.execute_reply": "2024-06-25T07:31:47.712559Z"
    }
   },
   "outputs": [
    {
     "data": {
      "image/png": "[encoded data removed]",
      "text/plain": [
       "<Figure size 640x480 with 1 Axes>"
      ]
     },
     "metadata": {},
     "output_type": "display_data"
    }
   ],
   "source": [
    "import pandas as pd\n",
    "import numpy as np\n",
    "import matplotlib.pyplot as plt\n",
    "\n",
    "spam_scores = np.load(path / \"identification\" / \"spam_score.npy\")\n",
    "plt.figure()\n",
    "plt.hist(spam_scores, bins=20)\n",
    "plt.xlabel(\"Spam score\")\n",
    "plt.ylabel(\"Count\")\n",
    "plt.show()"
   ]
  },
  {
   "cell_type": "markdown",
   "metadata": {},
   "source": [
    "We can get the ID of workers with a spam score below $0.5$:"
   ]
  },
  {
   "cell_type": "code",
   "execution_count": 5,
   "metadata": {
    "execution": {
     "iopub.execute_input": "2024-06-25T07:31:47.716279Z",
     "iopub.status.busy": "2024-06-25T07:31:47.715881Z",
     "iopub.status.idle": "2024-06-25T07:31:47.719969Z",
     "shell.execute_reply": "2024-06-25T07:31:47.719291Z"
    }
   },
   "outputs": [
    {
     "name": "stdout",
     "output_type": "stream",
     "text": [
      "(array([30, 31, 32, 33, 34, 35, 36, 37, 38, 39, 40, 41, 42, 43, 44, 45, 46,\n",
      "       47, 48, 49, 50, 51, 52, 53, 54, 55, 56, 57, 58, 59, 60, 61, 62, 63,\n",
      "       64, 65, 66, 67, 68, 69, 70, 71, 72, 73, 74, 75, 76, 77, 78, 79, 80,\n",
      "       81, 82, 83, 84, 85, 86, 87, 88, 89, 90, 91, 92, 93, 94, 95, 96, 97,\n",
      "       98, 99]),)\n"
     ]
    }
   ],
   "source": [
    "print(np.where(spam_scores < 0.5))"
   ]
  },
  {
   "cell_type": "markdown",
   "metadata": {},
   "source": [
    "## Aggregation with and without identification"
   ]
  },
  {
   "cell_type": "code",
   "execution_count": 6,
   "metadata": {
    "execution": {
     "iopub.execute_input": "2024-06-25T07:31:47.722380Z",
     "iopub.status.busy": "2024-06-25T07:31:47.722087Z",
     "iopub.status.idle": "2024-06-25T07:31:50.370619Z",
     "shell.execute_reply": "2024-06-25T07:31:50.369936Z"
    }
   },
   "outputs": [
    {
     "name": "stderr",
     "output_type": "stream",
     "text": [
      "/home/circleci/miniconda/lib/python3.10/site-packages/tqdm/auto.py:21: TqdmWarning: IProgress not found. Please update jupyter and ipywidgets. See https://ipywidgets.readthedocs.io/en/stable/user_install.html\n",
      "  from .autonotebook import tqdm as notebook_tqdm\n"
     ]
    }
   ],
   "source": [
    "from peerannot.models import Dawid_Skene as DS\n",
    "from peerannot.models import MV\n",
    "import json\n",
    "\n",
    "with open(path / \"answers.json\") as f:\n",
    "    answers = json.load(f)\n",
    "\n",
    "gt = np.load(path / \"ground_truth.npy\")"
   ]
  },
  {
   "cell_type": "code",
   "execution_count": 7,
   "metadata": {
    "execution": {
     "iopub.execute_input": "2024-06-25T07:31:50.373739Z",
     "iopub.status.busy": "2024-06-25T07:31:50.373331Z",
     "iopub.status.idle": "2024-06-25T07:31:50.609426Z",
     "shell.execute_reply": "2024-06-25T07:31:50.608570Z"
    }
   },
   "outputs": [
    {
     "name": "stderr",
     "output_type": "stream",
     "text": [
      "\r",
      "Dawid and Skene:   0% 0/50 [00:00<?, ?it/s]"
     ]
    },
    {
     "name": "stderr",
     "output_type": "stream",
     "text": [
      "\r",
      "Dawid and Skene:  14% 7/50 [00:00<00:00, 60.73it/s]"
     ]
    },
    {
     "name": "stderr",
     "output_type": "stream",
     "text": [
      "\r",
      "Finished:  22% 11/50 [00:00<00:00, 60.73it/s]      "
     ]
    },
    {
     "name": "stderr",
     "output_type": "stream",
     "text": [
      "\r",
      "Finished:  22% 11/50 [00:00<00:00, 51.23it/s]"
     ]
    },
    {
     "name": "stdout",
     "output_type": "stream",
     "text": [
      "\n",
      "        - MV accuracy: 0.8166666666666667\n",
      "        - DS accuracy: 0.91\n",
      "      \n"
     ]
    },
    {
     "name": "stderr",
     "output_type": "stream",
     "text": [
      "\n"
     ]
    }
   ],
   "source": [
    "y_mv = MV(answers, n_classes=5).get_answers()\n",
    "ds = DS(answers, n_classes=5, n_workers=100)\n",
    "ds.run()\n",
    "y_ds = ds.get_answers()\n",
    "print(f\"\"\"\n",
    "        - MV accuracy: {np.mean(y_mv == gt)}\n",
    "        - DS accuracy: {np.mean(y_ds == gt)}\n",
    "      \"\"\")"
   ]
  },
  {
   "cell_type": "markdown",
   "metadata": {},
   "source": [
    "Because the DS model models the confusions, it was able to generate better predicions than the majority vote. Let's see if we can identify the spammers and improve the predictions."
   ]
  },
  {
   "cell_type": "code",
   "execution_count": 8,
   "metadata": {
    "execution": {
     "iopub.execute_input": "2024-06-25T07:31:50.612433Z",
     "iopub.status.busy": "2024-06-25T07:31:50.612016Z",
     "iopub.status.idle": "2024-06-25T07:31:50.628715Z",
     "shell.execute_reply": "2024-06-25T07:31:50.627724Z"
    }
   },
   "outputs": [],
   "source": [
    "id_spammers = list(np.where(spam_scores < 0.5)[0])\n",
    "\n",
    "ans_cleaned = {}\n",
    "worker_ids = {}\n",
    "for task in answers.keys():\n",
    "    ans_cleaned[task] = {}\n",
    "    for worker, label in answers[task].items():\n",
    "        if int(worker) in id_spammers:\n",
    "            pass\n",
    "        else:\n",
    "            if worker_ids.get(worker, None) is None:\n",
    "                worker_ids[worker] = len(worker_ids)\n",
    "            ans_cleaned[task][worker_ids[worker]] = label"
   ]
  },
  {
   "cell_type": "code",
   "execution_count": 9,
   "metadata": {
    "execution": {
     "iopub.execute_input": "2024-06-25T07:31:50.631647Z",
     "iopub.status.busy": "2024-06-25T07:31:50.631228Z",
     "iopub.status.idle": "2024-06-25T07:31:50.717020Z",
     "shell.execute_reply": "2024-06-25T07:31:50.716176Z"
    }
   },
   "outputs": [
    {
     "name": "stderr",
     "output_type": "stream",
     "text": [
      "/home/circleci/project/peerannot/models/aggregation/DS.py:83: RuntimeWarning: invalid value encountered in divide\n",
      "  self.T = np.where(tdim > 0, T / tdim, 0)\n"
     ]
    },
    {
     "name": "stderr",
     "output_type": "stream",
     "text": [
      "\r",
      "Dawid and Skene:   0% 0/50 [00:00<?, ?it/s]"
     ]
    },
    {
     "name": "stderr",
     "output_type": "stream",
     "text": [
      "\r",
      "Finished:   6% 3/50 [00:00<00:00, 48.42it/s]"
     ]
    },
    {
     "name": "stderr",
     "output_type": "stream",
     "text": [
      "\r",
      "Finished:   6% 3/50 [00:00<00:00, 47.36it/s]"
     ]
    },
    {
     "name": "stdout",
     "output_type": "stream",
     "text": [
      "\n",
      "        - MV accuracy: 0.9933333333333333\n",
      "        - DS accuracy: 0.9933333333333333\n",
      "      \n"
     ]
    },
    {
     "name": "stderr",
     "output_type": "stream",
     "text": [
      "\n"
     ]
    }
   ],
   "source": [
    "y_mv = MV(ans_cleaned, n_classes=5).get_answers()\n",
    "ds = DS(ans_cleaned, n_classes=5, n_workers=len(worker_ids))\n",
    "ds.run()\n",
    "y_ds = ds.get_answers()\n",
    "print(\n",
    "    f\"\"\"\n",
    "        - MV accuracy: {np.mean(y_mv == gt)}\n",
    "        - DS accuracy: {np.mean(y_ds == gt)}\n",
    "      \"\"\"\n",
    ")"
   ]
  },
  {
   "cell_type": "markdown",
   "metadata": {},
   "source": [
    "Now that we cleaned the data, we can aggregate the labels again and obtain a majority vote that performs as good as the DS strategy !\n",
    "\n",
    "Similar modifications can be done by identifying the ambiguous tasks and not the workers."
   ]
  }
 ],
 "metadata": {
  "kernelspec": {
   "display_name": "peerannot",
   "language": "python",
   "name": "python3"
  },
  "language_info": {
   "codemirror_mode": {
    "name": "ipython",
    "version": 3
   },
   "file_extension": ".py",
   "mimetype": "text/x-python",
   "name": "python",
   "nbconvert_exporter": "python",
   "pygments_lexer": "ipython3",
   "version": "3.10.14"
  }
 },
 "nbformat": 4,
 "nbformat_minor": 2
}
